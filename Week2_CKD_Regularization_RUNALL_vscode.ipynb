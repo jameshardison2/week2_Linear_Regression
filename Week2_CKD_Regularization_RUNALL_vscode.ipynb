{
 "cells": [
  {
   "cell_type": "markdown",
   "id": "6b67936b",
   "metadata": {},
   "source": [
    "# Week 2 — Linear Regression with Regularization (CKD)\n",
    "**Target:** `hemoglobin`\n",
    "\n",
    "Run the notebook top to bottom."
   ]
  },
  {
   "cell_type": "markdown",
   "id": "3e662c0b",
   "metadata": {},
   "source": [
    "## 0) Setup"
   ]
  },
  {
   "cell_type": "markdown",
   "id": "68eca174",
   "metadata": {},
   "source": [
    "## Dataset Choice\n",
    "\n",
    "For this project, I considered three related datasets: Acute Kidney Injury, Diabetic Nephropathy, and Chronic Kidney Disease (CKD).  \n",
    "I selected the CKD dataset (`ckd_dataset_v2.csv`) as my primary focus because:\n",
    "\n",
    "1. **Continuity**: I began analyzing this dataset in Module B, so continuing ensures consistency and builds on prior cleaning and EDA.  \n",
    "2. **Alignment with project goals**: My Capstone question is about predicting kidney disease progression using eGFR, which is directly available in the CKD dataset.  \n",
    "3. **Analytical richness**: The dataset has a wide mix of numeric and categorical predictors, with noticeable multicollinearity. This makes it ideal for Week 2 methods:  \n",
    "   - **Lasso** → feature selection  \n",
    "   - **Ridge** → stability under correlation  \n",
    "   - **Elastic Net** → balance between the two  \n",
    "\n",
    "The AKI and Diabetic Nephropathy datasets remain supplementary but the CKD dataset offers the clearest path to modeling progression.\n"
   ]
  },
  {
   "cell_type": "code",
   "execution_count": 14,
   "id": "67bc927c",
   "metadata": {},
   "outputs": [],
   "source": [
    "import re, numpy as np, pandas as pd\n",
    "from sklearn.model_selection import train_test_split, GridSearchCV, KFold\n",
    "from sklearn.preprocessing import OneHotEncoder, StandardScaler\n",
    "from sklearn.compose import ColumnTransformer, make_column_selector as selector\n",
    "from sklearn.pipeline import Pipeline\n",
    "from sklearn.impute import SimpleImputer\n",
    "from sklearn.metrics import mean_squared_error, mean_absolute_error, r2_score\n",
    "from sklearn.linear_model import LinearRegression, Ridge, Lasso, ElasticNet\n",
    "import warnings\n",
    "warnings.filterwarnings('ignore')\n",
    "pd.set_option('display.float_format', lambda x: f'{x:,.4f}')"
   ]
  },
  {
   "cell_type": "markdown",
   "id": "603cbcfc",
   "metadata": {},
   "source": [
    "## 1) Load data and normalize column names"
   ]
  },
  {
   "cell_type": "code",
   "execution_count": 15,
   "id": "7d107630",
   "metadata": {},
   "outputs": [
    {
     "name": "stdout",
     "output_type": "stream",
     "text": [
      "Columns: ['bp_diastolic', 'bp_limit', 'sg', 'al', 'class', 'rbc', 'su', 'pc', 'pcc', 'ba', 'bgr', 'bu', 'sod', 'sc', 'pot', 'hemo', 'pcv', 'rbcc', 'wbcc', 'htn', 'dm', 'cad', 'appet', 'pe', 'ane', 'grf', 'stage', 'affected', 'age']\n"
     ]
    },
    {
     "data": {
      "text/html": [
       "<div>\n",
       "<style scoped>\n",
       "    .dataframe tbody tr th:only-of-type {\n",
       "        vertical-align: middle;\n",
       "    }\n",
       "\n",
       "    .dataframe tbody tr th {\n",
       "        vertical-align: top;\n",
       "    }\n",
       "\n",
       "    .dataframe thead th {\n",
       "        text-align: right;\n",
       "    }\n",
       "</style>\n",
       "<table border=\"1\" class=\"dataframe\">\n",
       "  <thead>\n",
       "    <tr style=\"text-align: right;\">\n",
       "      <th></th>\n",
       "      <th>bp_diastolic</th>\n",
       "      <th>bp_limit</th>\n",
       "      <th>sg</th>\n",
       "      <th>al</th>\n",
       "      <th>class</th>\n",
       "      <th>rbc</th>\n",
       "      <th>su</th>\n",
       "      <th>pc</th>\n",
       "      <th>pcc</th>\n",
       "      <th>ba</th>\n",
       "      <th>...</th>\n",
       "      <th>htn</th>\n",
       "      <th>dm</th>\n",
       "      <th>cad</th>\n",
       "      <th>appet</th>\n",
       "      <th>pe</th>\n",
       "      <th>ane</th>\n",
       "      <th>grf</th>\n",
       "      <th>stage</th>\n",
       "      <th>affected</th>\n",
       "      <th>age</th>\n",
       "    </tr>\n",
       "  </thead>\n",
       "  <tbody>\n",
       "    <tr>\n",
       "      <th>0</th>\n",
       "      <td>discrete</td>\n",
       "      <td>discrete</td>\n",
       "      <td>discrete</td>\n",
       "      <td>discrete</td>\n",
       "      <td>discrete</td>\n",
       "      <td>discrete</td>\n",
       "      <td>discrete</td>\n",
       "      <td>discrete</td>\n",
       "      <td>discrete</td>\n",
       "      <td>discrete</td>\n",
       "      <td>...</td>\n",
       "      <td>discrete</td>\n",
       "      <td>discrete</td>\n",
       "      <td>discrete</td>\n",
       "      <td>discrete</td>\n",
       "      <td>discrete</td>\n",
       "      <td>discrete</td>\n",
       "      <td>discrete</td>\n",
       "      <td>discrete</td>\n",
       "      <td>discrete</td>\n",
       "      <td>discrete</td>\n",
       "    </tr>\n",
       "    <tr>\n",
       "      <th>1</th>\n",
       "      <td>NaN</td>\n",
       "      <td>NaN</td>\n",
       "      <td>NaN</td>\n",
       "      <td>NaN</td>\n",
       "      <td>NaN</td>\n",
       "      <td>NaN</td>\n",
       "      <td>NaN</td>\n",
       "      <td>NaN</td>\n",
       "      <td>NaN</td>\n",
       "      <td>NaN</td>\n",
       "      <td>...</td>\n",
       "      <td>NaN</td>\n",
       "      <td>NaN</td>\n",
       "      <td>NaN</td>\n",
       "      <td>NaN</td>\n",
       "      <td>NaN</td>\n",
       "      <td>NaN</td>\n",
       "      <td>NaN</td>\n",
       "      <td>NaN</td>\n",
       "      <td>class</td>\n",
       "      <td>meta</td>\n",
       "    </tr>\n",
       "    <tr>\n",
       "      <th>2</th>\n",
       "      <td>0</td>\n",
       "      <td>0</td>\n",
       "      <td>1.019 - 1.021</td>\n",
       "      <td>1 - 1</td>\n",
       "      <td>ckd</td>\n",
       "      <td>0</td>\n",
       "      <td>&lt; 0</td>\n",
       "      <td>0</td>\n",
       "      <td>0</td>\n",
       "      <td>0</td>\n",
       "      <td>...</td>\n",
       "      <td>0</td>\n",
       "      <td>0</td>\n",
       "      <td>0</td>\n",
       "      <td>0</td>\n",
       "      <td>0</td>\n",
       "      <td>0</td>\n",
       "      <td>≥ 227.944</td>\n",
       "      <td>s1</td>\n",
       "      <td>1</td>\n",
       "      <td>&lt; 12</td>\n",
       "    </tr>\n",
       "  </tbody>\n",
       "</table>\n",
       "<p>3 rows × 29 columns</p>\n",
       "</div>"
      ],
      "text/plain": [
       "  bp_diastolic  bp_limit             sg        al     class       rbc  \\\n",
       "0     discrete  discrete       discrete  discrete  discrete  discrete   \n",
       "1          NaN       NaN            NaN       NaN       NaN       NaN   \n",
       "2            0         0  1.019 - 1.021     1 - 1       ckd         0   \n",
       "\n",
       "         su        pc       pcc        ba  ...       htn        dm       cad  \\\n",
       "0  discrete  discrete  discrete  discrete  ...  discrete  discrete  discrete   \n",
       "1       NaN       NaN       NaN       NaN  ...       NaN       NaN       NaN   \n",
       "2       < 0         0         0         0  ...         0         0         0   \n",
       "\n",
       "      appet        pe       ane        grf     stage  affected       age  \n",
       "0  discrete  discrete  discrete   discrete  discrete  discrete  discrete  \n",
       "1       NaN       NaN       NaN        NaN       NaN     class      meta  \n",
       "2         0         0         0  ≥ 227.944        s1         1      < 12  \n",
       "\n",
       "[3 rows x 29 columns]"
      ]
     },
     "execution_count": 15,
     "metadata": {},
     "output_type": "execute_result"
    }
   ],
   "source": [
    "# If running in Codespaces, put this notebook next to ckd_dataset_v2.csv\n",
    "import pandas as pd\n",
    "df = pd.read_csv('ckd_dataset_v2.csv')\n",
    "df.columns = (df.columns.str.strip()\n",
    "              .str.replace(r'\\s+','_',regex=True)\n",
    "              .str.replace(r'[^0-9a-zA-Z_]','',regex=True)\n",
    "              .str.lower())\n",
    "print('Columns:', df.columns.tolist()[:40])\n",
    "df.head(3)"
   ]
  },
  {
   "cell_type": "markdown",
   "id": "99f5bf85",
   "metadata": {},
   "source": [
    "## 2) Target = hemoglobin → numeric + align X/y"
   ]
  },
  {
   "cell_type": "code",
   "execution_count": 16,
   "id": "563449d7",
   "metadata": {},
   "outputs": [
    {
     "name": "stdout",
     "output_type": "stream",
     "text": [
      "Shapes: (200, 28) (200,)\n"
     ]
    }
   ],
   "source": [
    "TARGET = 'hemo'\n",
    "assert TARGET in df.columns, f'Missing target {TARGET}'\n",
    "y_raw = df[TARGET].astype(str).str.extract(r'([-+]?\\d*\\.?\\d+)')[0]\n",
    "y = pd.to_numeric(y_raw, errors='coerce')\n",
    "mask = y.notna()\n",
    "y = y.loc[mask].astype(float)\n",
    "X = df.drop(columns=[TARGET]).loc[mask].copy()\n",
    "X = X.replace([np.inf,-np.inf], np.nan)\n",
    "low_missing_cols = [c for c in X.columns if X[c].isna().mean() < 0.95]\n",
    "X = X[low_missing_cols].copy()\n",
    "X = X.reset_index(drop=True); y = y.reset_index(drop=True)\n",
    "print('Shapes:', X.shape, y.shape)"
   ]
  },
  {
   "cell_type": "markdown",
   "id": "427253f2",
   "metadata": {},
   "source": [
    "## 3) Preprocess pipeline (impute + encode)"
   ]
  },
  {
   "cell_type": "code",
   "execution_count": 17,
   "id": "b93ff762",
   "metadata": {},
   "outputs": [],
   "source": [
    "numeric_transformer = Pipeline([('imputer', SimpleImputer(strategy='median')),\n",
    "                                   ('scaler', StandardScaler())])\n",
    "categorical_transformer = Pipeline([('imputer', SimpleImputer(strategy='most_frequent')),\n",
    "                                    ('onehot', OneHotEncoder(handle_unknown='ignore', sparse_output=False))])\n",
    "preprocess = ColumnTransformer([('num', numeric_transformer, selector(dtype_include=np.number)),\n",
    "                                ('cat', categorical_transformer, selector(dtype_exclude=np.number))])\n",
    "def regression_report(y_true, y_pred, label='model'):\n",
    "    rmse = mean_squared_error(y_true, y_pred, squared=False)\n",
    "    mae = mean_absolute_error(y_true, y_pred)\n",
    "    r2 = r2_score(y_true, y_pred)\n",
    "    return pd.Series({'RMSE': rmse, 'MAE': mae, 'R2': r2}, name=label)"
   ]
  },
  {
   "cell_type": "markdown",
   "id": "5ed36748",
   "metadata": {},
   "source": [
    "## 4) Train/Test split"
   ]
  },
  {
   "cell_type": "code",
   "execution_count": 18,
   "id": "d4bfecd0",
   "metadata": {},
   "outputs": [
    {
     "data": {
      "text/plain": [
       "((160, 28), (40, 28))"
      ]
     },
     "execution_count": 18,
     "metadata": {},
     "output_type": "execute_result"
    }
   ],
   "source": [
    "X_train, X_test, y_train, y_test = train_test_split(X, y, test_size=0.2, random_state=42)\n",
    "X_train.shape, X_test.shape"
   ]
  },
  {
   "cell_type": "markdown",
   "id": "f46189fd",
   "metadata": {},
   "source": [
    "## 5) Baseline OLS"
   ]
  },
  {
   "cell_type": "code",
   "execution_count": 19,
   "id": "e7776e97",
   "metadata": {},
   "outputs": [],
   "source": [
    "from sklearn.metrics import mean_squared_error\n",
    "import numpy as np\n",
    "\n",
    "def regression_report(y_true, y_pred, label=\"model\"):\n",
    "    rmse = np.sqrt(mean_squared_error(y_true, y_pred))  # instead of squared=False\n",
    "    mae = mean_absolute_error(y_true, y_pred)\n",
    "    r2 = r2_score(y_true, y_pred)\n",
    "    return pd.Series({\"RMSE\": rmse, \"MAE\": mae, \"R2\": r2}, name=label)\n"
   ]
  },
  {
   "cell_type": "code",
   "execution_count": 20,
   "id": "0157ec2b",
   "metadata": {},
   "outputs": [
    {
     "data": {
      "text/plain": [
       "RMSE    3.0494\n",
       "MAE     2.0298\n",
       "R2     -0.0896\n",
       "Name: OLS, dtype: float64"
      ]
     },
     "execution_count": 20,
     "metadata": {},
     "output_type": "execute_result"
    }
   ],
   "source": [
    "ols = Pipeline([('prep', preprocess), ('model', LinearRegression())])\n",
    "ols.fit(X_train, y_train)\n",
    "y_pred_ols = ols.predict(X_test)\n",
    "report_ols = regression_report(y_test, y_pred_ols, 'OLS')\n",
    "report_ols"
   ]
  },
  {
   "cell_type": "markdown",
   "id": "dba0598c",
   "metadata": {},
   "source": [
    "## 6) Ridge / 7) Lasso / 8) Elastic Net"
   ]
  },
  {
   "cell_type": "code",
   "execution_count": 21,
   "id": "2bd85e0a",
   "metadata": {},
   "outputs": [
    {
     "data": {
      "text/html": [
       "<div>\n",
       "<style scoped>\n",
       "    .dataframe tbody tr th:only-of-type {\n",
       "        vertical-align: middle;\n",
       "    }\n",
       "\n",
       "    .dataframe tbody tr th {\n",
       "        vertical-align: top;\n",
       "    }\n",
       "\n",
       "    .dataframe thead th {\n",
       "        text-align: right;\n",
       "    }\n",
       "</style>\n",
       "<table border=\"1\" class=\"dataframe\">\n",
       "  <thead>\n",
       "    <tr style=\"text-align: right;\">\n",
       "      <th></th>\n",
       "      <th>RMSE</th>\n",
       "      <th>MAE</th>\n",
       "      <th>R2</th>\n",
       "    </tr>\n",
       "  </thead>\n",
       "  <tbody>\n",
       "    <tr>\n",
       "      <th>Ridge</th>\n",
       "      <td>1.3973</td>\n",
       "      <td>1.1577</td>\n",
       "      <td>0.7712</td>\n",
       "    </tr>\n",
       "    <tr>\n",
       "      <th>ElasticNet</th>\n",
       "      <td>1.4851</td>\n",
       "      <td>1.2222</td>\n",
       "      <td>0.7416</td>\n",
       "    </tr>\n",
       "    <tr>\n",
       "      <th>Lasso</th>\n",
       "      <td>1.6554</td>\n",
       "      <td>1.3509</td>\n",
       "      <td>0.6789</td>\n",
       "    </tr>\n",
       "    <tr>\n",
       "      <th>OLS</th>\n",
       "      <td>3.0494</td>\n",
       "      <td>2.0298</td>\n",
       "      <td>-0.0896</td>\n",
       "    </tr>\n",
       "  </tbody>\n",
       "</table>\n",
       "</div>"
      ],
      "text/plain": [
       "             RMSE    MAE      R2\n",
       "Ridge      1.3973 1.1577  0.7712\n",
       "ElasticNet 1.4851 1.2222  0.7416\n",
       "Lasso      1.6554 1.3509  0.6789\n",
       "OLS        3.0494 2.0298 -0.0896"
      ]
     },
     "execution_count": 21,
     "metadata": {},
     "output_type": "execute_result"
    }
   ],
   "source": [
    "cv = KFold(n_splits=5, shuffle=True, random_state=42)\n",
    "ridge = Pipeline([('prep', preprocess), ('model', Ridge())])\n",
    "ridge_cv = GridSearchCV(ridge, {'model__alpha':[0.001,0.01,0.1,1.0,10.0]}, cv=cv, scoring='neg_root_mean_squared_error', n_jobs=-1)\n",
    "ridge_cv.fit(X_train, y_train)\n",
    "y_pred_ridge = ridge_cv.predict(X_test)\n",
    "report_ridge = regression_report(y_test, y_pred_ridge, 'Ridge')\n",
    "\n",
    "lasso = Pipeline([('prep', preprocess), ('model', Lasso(max_iter=10000))])\n",
    "lasso_cv = GridSearchCV(lasso, {'model__alpha':[0.001,0.01,0.1,1.0]}, cv=cv, scoring='neg_root_mean_squared_error', n_jobs=-1)\n",
    "lasso_cv.fit(X_train, y_train)\n",
    "y_pred_lasso = lasso_cv.predict(X_test)\n",
    "report_lasso = regression_report(y_test, y_pred_lasso, 'Lasso')\n",
    "\n",
    "enet = Pipeline([('prep', preprocess), ('model', ElasticNet(max_iter=10000))])\n",
    "enet_cv = GridSearchCV(enet, {'model__alpha':[0.001,0.01,0.1,1.0], 'model__l1_ratio':[0.2,0.5,0.8]}, cv=cv, scoring='neg_root_mean_squared_error', n_jobs=-1)\n",
    "enet_cv.fit(X_train, y_train)\n",
    "y_pred_enet = enet_cv.predict(X_test)\n",
    "report_enet = regression_report(y_test, y_pred_enet, 'ElasticNet')\n",
    "\n",
    "pd.concat([report_ols, report_ridge, report_lasso, report_enet], axis=1).T.sort_values('RMSE')"
   ]
  },
  {
   "cell_type": "markdown",
   "id": "b475a7a0",
   "metadata": {},
   "source": [
    "## 9) Reflection"
   ]
  },
  {
   "cell_type": "markdown",
   "id": "f5f20e69",
   "metadata": {},
   "source": [
    "- Hemoglobin used as clean numeric target.\n",
    "- Ridge stabilizes, Lasso selects, Elastic Net balances.\n",
    "- Compared RMSE, MAE, R² on holdout.\n"
   ]
  }
 ],
 "metadata": {
  "kernelspec": {
   "display_name": "Python 3",
   "language": "python",
   "name": "python3"
  },
  "language_info": {
   "codemirror_mode": {
    "name": "ipython",
    "version": 3
   },
   "file_extension": ".py",
   "mimetype": "text/x-python",
   "name": "python",
   "nbconvert_exporter": "python",
   "pygments_lexer": "ipython3",
   "version": "3.12.1"
  }
 },
 "nbformat": 4,
 "nbformat_minor": 5
}
